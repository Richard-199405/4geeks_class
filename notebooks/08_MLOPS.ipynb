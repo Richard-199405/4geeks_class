{
 "cells": [
  {
   "cell_type": "markdown",
   "metadata": {},
   "source": [
    "# Leccion 8: MLOPS (Machine Learning Operations)\n"
   ]
  },
  {
   "cell_type": "code",
   "execution_count": null,
   "metadata": {},
   "outputs": [],
   "source": [
    "# El shell de un SO sistema operativo, reconoce 2 entidades el archivo y el directorio,\n",
    "# estos pueden ser visibles u ocultos.\n",
    "# los comandos en shell suelen tener el componente del nombre (comando) y las opciones que se denotan\n",
    "# con un guion simple o un guion doble\n",
    "# el comando cat muestra un archivo de texto\n",
    "# comando echo se usa para imprimir texto en un terminal\n",
    "# comando tail nos muestra las ultimas lineas de texto de un archivo\n",
    "# comando head nos muestra las primeras lineas de texto de un archivo\n",
    "# comando touch creamos archivo nuevo\n",
    "# comando mkdir nos crea un directorio nuevo\n",
    "# comando > significa volcar un contenido (en el lado izq hacia un archivo en el lado der)\n",
    "# comando >> significa agregar un contenido (en el lado izq hacia un archivo en el lado der) (Si el archivo no existe lo crea)\n",
    "# comando tree puedo ver el arbol de carpetas y directorio\n",
    "# comando \"mkdir -p my_docs/{word,excel,powerpoint}\" con llaves crea varias carpetas anidadas al instante\n",
    "# comando cd nos lleva a otro directorio, recordemos que . significa donde estoy en este momento y .. un nivel arriba\n",
    "# comando \"ln -s\" crea un enlace simbolico \"alias\" que hace referencia a un archivo\n",
    "# comando rm permite borrar directorios y archivos. En caso un directorio contenga mas directorios o mas archivos \n",
    "# debemos utilizar comandos recursivos es decir que comienza avanzar dentro de la carpeta que se invoca con\n",
    "# -r y si queremos forzar el borrado sin preguntar usamos -f\n",
    "# Comando grep permite capturar patrones de texto en un archivo\n",
    "# Comando find permite encontrar o buscar archivos o directorios"
   ]
  }
 ],
 "metadata": {
  "kernelspec": {
   "display_name": ".venv",
   "language": "python",
   "name": "python3"
  },
  "language_info": {
   "name": "python",
   "version": "3.12.1"
  }
 },
 "nbformat": 4,
 "nbformat_minor": 2
}
