{
 "cells": [
  {
   "cell_type": "code",
   "execution_count": 13,
   "metadata": {},
   "outputs": [],
   "source": [
    "import numpy as np\n",
    "import matplotlib.pyplot as plt\n",
    "import pandas as pd\n",
    "import random\n",
    "from scipy.stats import binom"
   ]
  },
  {
   "cell_type": "code",
   "execution_count": 14,
   "metadata": {},
   "outputs": [],
   "source": [
    "# Hay una ruleta en un casino. La ruleta tiene 18 espacios rojos, 18 espacios negros y 2 espacios verdes\n",
    "# Al girar la ruleta si sale rojo el apostador gana 1$ caso contrario el apostador pierde 1$\n",
    "# Desde la vista del casino si sale rojo el casino pierde un 1$ caso contrario el casino gana 1$\n",
    "ruleta = [\"rojo\"]*18 + [\"negro\"]*18 + [\"verde\"]*2\n",
    "\n",
    "#simular 1000 estracciones\n",
    "# cuanto gana o pierde el casino al terminar el experimento"
   ]
  },
  {
   "cell_type": "code",
   "execution_count": 15,
   "metadata": {},
   "outputs": [
    {
     "name": "stdout",
     "output_type": "stream",
     "text": [
      "El casino ganó 82 $ en 1000 tiradas\n"
     ]
    }
   ],
   "source": [
    "def roulette_casino_profit(spins):\n",
    "    casino_profit = 0\n",
    "    for _ in range(spins):\n",
    "        spin_result = random.choice(ruleta)\n",
    "        if spin_result == \"rojo\":\n",
    "            casino_profit -= 1\n",
    "        else:\n",
    "            casino_profit += 1\n",
    "    return casino_profit\n",
    "result = roulette_casino_profit(1000)\n",
    "print(\"El casino\", \"ganó\" if result > 0 else \"perdió\", abs(result), \"$ en 1000 tiradas\")"
   ]
  },
  {
   "cell_type": "code",
   "execution_count": 16,
   "metadata": {},
   "outputs": [],
   "source": [
    "def roullete_spins (spins=1000, roullete=ruleta):\n",
    "    earnings = 0\n",
    "    for _ in range(spins):\n",
    "        result = random.choice(roullete)\n",
    "        if result == \"rojo\":\n",
    "            earnings -= 1\n",
    "        else:\n",
    "            earnings += 1\n",
    "    return earnings"
   ]
  },
  {
   "cell_type": "code",
   "execution_count": 17,
   "metadata": {},
   "outputs": [
    {
     "data": {
      "text/plain": [
       "-20"
      ]
     },
     "execution_count": 17,
     "metadata": {},
     "output_type": "execute_result"
    }
   ],
   "source": [
    "roullete_spins()"
   ]
  },
  {
   "cell_type": "code",
   "execution_count": 18,
   "metadata": {},
   "outputs": [],
   "source": [
    "#Sampling model\n",
    "samplings = []\n",
    "for _ in range(10000):\n",
    "    samplings.append(roullete_spins())"
   ]
  },
  {
   "cell_type": "code",
   "execution_count": 19,
   "metadata": {},
   "outputs": [
    {
     "data": {
      "image/png": "[encoded data removed]",
      "text/plain": [
       "<Figure size 640x480 with 1 Axes>"
      ]
     },
     "metadata": {},
     "output_type": "display_data"
    }
   ],
   "source": [
    "#Plot frecuency histogram\n",
    "plt.hist(samplings,bins=20)\n",
    "plt.grid(True)\n",
    "plt.show()"
   ]
  },
  {
   "cell_type": "code",
   "execution_count": 20,
   "metadata": {},
   "outputs": [
    {
     "data": {
      "text/plain": [
       "np.float64(31.268170630211163)"
      ]
     },
     "execution_count": 20,
     "metadata": {},
     "output_type": "execute_result"
    }
   ],
   "source": [
    "#Standard error\n",
    "std = np.std(samplings)\n",
    "std"
   ]
  },
  {
   "cell_type": "code",
   "execution_count": 21,
   "metadata": {},
   "outputs": [
    {
     "data": {
      "text/plain": [
       "10000"
      ]
     },
     "execution_count": 21,
     "metadata": {},
     "output_type": "execute_result"
    }
   ],
   "source": [
    "n = len(samplings)\n",
    "n"
   ]
  },
  {
   "cell_type": "code",
   "execution_count": 22,
   "metadata": {},
   "outputs": [
    {
     "data": {
      "text/plain": [
       "np.float64(0.3126817063021116)"
      ]
     },
     "execution_count": 22,
     "metadata": {},
     "output_type": "execute_result"
    }
   ],
   "source": [
    "#Standard error = std/raiz de n\n",
    "std/np.sqrt(n)"
   ]
  },
  {
   "cell_type": "code",
   "execution_count": 23,
   "metadata": {},
   "outputs": [],
   "source": [
    "#Bernoulli distribution: es una distribucion de probabilidad discreta de una variable aleatoria que toma el valor de 1 con probabilidad \"p\" y el valor 0 con probabilidad \"1-p\"\n",
    "# Un ejemplo basico es el lanzamiento de una moneda donde P es 0.5 para cara (osea 1), y 0.5 para sello (0). E[X]= 0.5, VAR [X]=0.25\n",
    "# El segundo ejemplo es obtener 5 o 6 en un lanzamiento de dado, donde acertar 1 tiene P 1/6 + 1/6 = 2/6 y la probabilidad de fallar 0 es 4/6 E[X]=1/3 VAR[X]2/6 *4/6 = 2/9\n",
    "# E valor E[X] es \"P\" y la varianza VAR[X] es igual a \"P+(1-p)\""
   ]
  },
  {
   "cell_type": "code",
   "execution_count": 24,
   "metadata": {},
   "outputs": [],
   "source": [
    "# Distribucion binomial: es una distribucion de probabilidad discreta del numero de exitos en una secuencia de n experimentos independientes bernoulli donde el exito tiene probabilidad p y el fracaso tiene 1-p\n",
    "# Probabilidad de sacar 3 caras en un lanzamiento de 4 monedas cada lanzamiento de moneda es un evento Bernoulli independiente de los otros lanzamientos\n",
    "# Formula: P(variable aleatoria X) P(X=K)\n"
   ]
  },
  {
   "cell_type": "markdown",
   "metadata": {},
   "source": [
    "$ P(X=K) = {n\\choose K} P^K*(1-p)^{n-K} $"
   ]
  },
  {
   "cell_type": "markdown",
   "metadata": {},
   "source": [
    "$ {n\\choose K} = n!/(K! * n-K!) $\n",
    "$ n! = n * (n-1) * (n-2)...*1\n"
   ]
  },
  {
   "cell_type": "code",
   "execution_count": 25,
   "metadata": {},
   "outputs": [],
   "source": [
    "#El valor esperado de la distribucion binomial E[X] = n*P y la varianza es VAR[X] = n*P * (1-P)\n"
   ]
  },
  {
   "cell_type": "code",
   "execution_count": 28,
   "metadata": {},
   "outputs": [
    {
     "data": {
      "image/png": "[encoded data removed]",
      "text/plain": [
       "<Figure size 640x480 with 1 Axes>"
      ]
     },
     "metadata": {},
     "output_type": "display_data"
    }
   ],
   "source": [
    "# Hay un evento n que es la probabilidad de sacar 3 caras en un lanzamiento de 4 monedas\n",
    "n, p = 4, 0.5\n",
    "rv = binom(n, p)\n",
    "fig, ax = plt.subplots(1, 1)\n",
    "x = np.arange(binom.ppf(0.01, n, p), binom.ppf(0.99, n, p))\n",
    "ax.plot(x,binom.pmf(x, n, p),\"bo\", ms=8, label=\"funcion de probabilidad masa\")\n",
    "ax.vlines(x, 0, binom.pmf(x, n, p), colors = \"b\", lw = 5, alpha = 0.5)\n",
    "plt.show()\n"
   ]
  },
  {
   "cell_type": "code",
   "execution_count": null,
   "metadata": {},
   "outputs": [],
   "source": [
    "# Poisson distributio: es una distribucion de probabilidad discreta que expresa la probabilidad de que un numero dado de evento ocurra en un intervalo fijo de tiempo a una tasa media constante (tasa media constante lambda)\n"
   ]
  },
  {
   "cell_type": "markdown",
   "metadata": {},
   "source": [
    "$$ P(X=k) =\\frac{ \\lambda^k * e^{-\\lambda} } {k!} $$"
   ]
  },
  {
   "cell_type": "code",
   "execution_count": null,
   "metadata": {},
   "outputs": [],
   "source": [
    "# El valor esperado de X E[X] = lambda y VAR[X] = lambda"
   ]
  },
  {
   "cell_type": "code",
   "execution_count": null,
   "metadata": {},
   "outputs": [],
   "source": [
    "# Normal distribution: es una distribucion de probabilidad continua para una variable aleatoria en el espacio continuo y esta representada por su media mu y su desviacion estandar \"sigma\""
   ]
  },
  {
   "cell_type": "markdown",
   "metadata": {},
   "source": [
    "$$ P(X = \\mu\\sigma) = \\frac {1}{\\sqrt{2\\pi\\sigma^2}} * e^{\\frac{-(X-\\mu)^2}{2\\sigma^2}} $$"
   ]
  },
  {
   "cell_type": "code",
   "execution_count": null,
   "metadata": {},
   "outputs": [],
   "source": [
    "# El valor esperado E[x] es \"mu\" y la VAR[X] es sigma al cuadrado"
   ]
  }
 ],
 "metadata": {
  "kernelspec": {
   "display_name": ".venv",
   "language": "python",
   "name": "python3"
  },
  "language_info": {
   "codemirror_mode": {
    "name": "ipython",
    "version": 3
   },
   "file_extension": ".py",
   "mimetype": "text/x-python",
   "name": "python",
   "nbconvert_exporter": "python",
   "pygments_lexer": "ipython3",
   "version": "3.12.1"
  }
 },
 "nbformat": 4,
 "nbformat_minor": 2
}
