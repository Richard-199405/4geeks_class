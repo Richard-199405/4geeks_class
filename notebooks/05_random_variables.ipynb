{
 "cells": [
  {
   "cell_type": "code",
   "execution_count": 3,
   "metadata": {},
   "outputs": [],
   "source": [
    "import numpy as np\n",
    "import matplotlib.pyplot as plt\n",
    "import pandas as pd\n",
    "import random"
   ]
  },
  {
   "cell_type": "code",
   "execution_count": null,
   "metadata": {},
   "outputs": [],
   "source": [
    "# Hay una ruleta en un casino. La ruleta tiene 18 espacios rojos, 18 espacios negros y 2 espacios verdes\n",
    "# Al girar la ruleta si sale rojo el apostador gana 1$ caso contrario el apostador pierde 1$\n",
    "# Desde la vista del casino si sale rojo el casino pierde un 1$ caso contrario el casino gana 1$\n",
    "ruleta = [\"rojo\"]*18 + [\"negro\"]*18 + [\"verde\"]*2\n",
    "\n",
    "#simular 1000 estracciones\n",
    "# cuanto gana o pierde el casino al terminar el experimento"
   ]
  },
  {
   "cell_type": "code",
   "execution_count": 8,
   "metadata": {},
   "outputs": [
    {
     "name": "stdout",
     "output_type": "stream",
     "text": [
      "El casino ganó 88 $ en 1000 tiradas\n"
     ]
    }
   ],
   "source": [
    "def roulette_casino_profit(spins):\n",
    "    casino_profit = 0\n",
    "    for _ in range(spins):\n",
    "        spin_result = random.choice(ruleta)\n",
    "        if spin_result == \"rojo\":\n",
    "            casino_profit -= 1\n",
    "        else:\n",
    "            casino_profit += 1\n",
    "    return casino_profit\n",
    "result = roulette_casino_profit(1000)\n",
    "print(\"El casino\", \"ganó\" if result > 0 else \"perdió\", abs(result), \"$ en 1000 tiradas\")"
   ]
  }
 ],
 "metadata": {
  "kernelspec": {
   "display_name": ".venv",
   "language": "python",
   "name": "python3"
  },
  "language_info": {
   "codemirror_mode": {
    "name": "ipython",
    "version": 3
   },
   "file_extension": ".py",
   "mimetype": "text/x-python",
   "name": "python",
   "nbconvert_exporter": "python",
   "pygments_lexer": "ipython3",
   "version": "3.12.1"
  }
 },
 "nbformat": 4,
 "nbformat_minor": 2
}
